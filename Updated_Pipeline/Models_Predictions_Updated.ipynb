{
 "cells": [
  {
   "cell_type": "code",
   "execution_count": 61,
   "metadata": {},
   "outputs": [],
   "source": [
    "import utils as ui\n",
    "from sklearn.preprocessing import MinMaxScaler,RobustScaler,StandardScaler\n",
    "import pandas as pd\n",
    "import numpy as np\n",
    "from keras.layers import Bidirectional,Dropout,LSTM,Dense,LeakyReLU\n",
    "from keras.callbacks import ModelCheckpoint,EarlyStopping\n",
    "from keras.models import load_model\n",
    "from keras.models import Model,Sequential\n",
    "from xgboost import XGBRegressor\n",
    "from sklearn.model_selection import train_test_split\n",
    "from sklearn.metrics import mean_squared_error\n",
    "from math import sqrt"
   ]
  },
  {
   "cell_type": "code",
   "execution_count": 62,
   "metadata": {},
   "outputs": [],
   "source": [
    "df_train= ui.load_csv('Datasets\\With Imputation\\PPCA Imputation\\Ghaziabad_train_PPCA.csv')\n",
    "df_test= ui.load_csv('Datasets\\With Imputation\\PPCA Imputation\\Ghaziabad_test_PPCA.csv')"
   ]
  },
  {
   "cell_type": "code",
   "execution_count": 63,
   "metadata": {},
   "outputs": [],
   "source": [
    "features_to_select = ['PM2.5', 'PM10', 'NO2', 'NH3', 'SO2', 'CO', 'Ozone', 'Temp', 'RH','WS','WD']"
   ]
  },
  {
   "cell_type": "code",
   "execution_count": 64,
   "metadata": {},
   "outputs": [
    {
     "name": "stdout",
     "output_type": "stream",
     "text": [
      "Max value of scaled 'PM2.5': 7.42344660129255\n",
      "Min value of scaled 'PM2.5': -0.7135677136358749\n",
      "count    28742.000000\n",
      "mean         0.344936\n",
      "std          1.037664\n",
      "min         -0.713568\n",
      "25%         -0.343425\n",
      "50%          0.000000\n",
      "75%          0.656575\n",
      "max          7.423447\n",
      "Name: PM2.5, dtype: float64\n"
     ]
    }
   ],
   "source": [
    "df_train[features_to_select],scaler=ui.scaling(df_train,features_to_scale=features_to_select,scaler=RobustScaler(),s=True,r=True)\n",
    "df_test[features_to_select]=ui.scaling(df_test,features_to_scale=features_to_select,scaler=RobustScaler())"
   ]
  },
  {
   "cell_type": "code",
   "execution_count": 65,
   "metadata": {},
   "outputs": [],
   "source": [
    "df_train_final, df_val = train_test_split(df_train, test_size=0.2, shuffle=False)"
   ]
  },
  {
   "cell_type": "code",
   "execution_count": 66,
   "metadata": {},
   "outputs": [
    {
     "name": "stdout",
     "output_type": "stream",
     "text": [
      "X shape == (22945, 48, 14).\n",
      "Y shape == (22945, 1).\n",
      "X shape == (5701, 48, 14).\n",
      "Y shape == (5701, 1).\n",
      "X shape == (5147, 48, 14).\n",
      "Y shape == (5147, 1).\n"
     ]
    }
   ],
   "source": [
    "X_train, y_train = ui.data_formating(df_train_final)\n",
    "X_val, y_val = ui.data_formating(df_val)\n",
    "X_test, y_test = ui.data_formating(df_test)"
   ]
  },
  {
   "cell_type": "code",
   "execution_count": 67,
   "metadata": {},
   "outputs": [],
   "source": [
    "def LSTM_Model(X,Y):\n",
    "\n",
    "    model = Sequential()\n",
    "    model.add(Bidirectional(LSTM(64, input_shape=(X.shape[1],X.shape[2]), return_sequences=  False)))\n",
    "    model.add(LeakyReLU(0.69))\n",
    "    model.add(Dropout(0.2))\n",
    "    model.add(Dense(Y.shape[1],activation='linear'))\n",
    "    model.compile(optimizer='adam', loss='mse')\n",
    "\n",
    "    cp=ModelCheckpoint('models/model_epoch_{epoch:02d}.h5',save_best_only=True)\n",
    "    early_stopping = EarlyStopping(monitor='val_loss', patience=5, restore_best_weights=True)\n",
    "\n",
    "    # fit the model\n",
    "    history = model.fit(X,Y, epochs=15, batch_size=24, validation_split=0.2,shuffle=False, verbose=1,callbacks=[cp,early_stopping])\n",
    "    # history = model.fit(X,Y, epochs=15, batch_size=48, validation_split=0.1, verbose=1,callbacks=[cp,early_stopping])\n",
    "    model.summary()\n",
    "\n",
    "    # Print final training and validation loss\n",
    "    print(\"Final training loss:\", history.history['loss'][-1])\n",
    "    print(\"Final validation loss:\", history.history['val_loss'][-1])\n",
    "\n",
    "    ui.plot_loss(history)\n",
    "\n",
    "    ask = input(\"Do You Want To Continue? (Yes/No) \").strip().lower()\n",
    "    i=0\n",
    "    while ask=='yes':\n",
    "\n",
    "        cp=ModelCheckpoint('models/model_epoch_'+ str(i) +'_{epoch:02d}.h5',save_best_only=True)\n",
    "\n",
    "        # Continue training\n",
    "        history = model.fit(X, Y, epochs=5, batch_size=24, validation_split=0.2,shuffle=False, verbose=1, callbacks=[cp, early_stopping])\n",
    "        # history = model.fit(X, Y, epochs=5, batch_size=48, validation_split=0.1, verbose=1, callbacks=[cp, early_stopping])\n",
    "        \n",
    "        # Print final training and validation loss\n",
    "        print(\"Final training loss:\", history.history['loss'][-1])\n",
    "        print(\"Final validation loss:\", history.history['val_loss'][-1])\n",
    "\n",
    "        ui.plot_loss(history)\n",
    "        \n",
    "        # Ask again\n",
    "        ask = input(\"Do You Want To Continue? (Yes/No) \").strip().lower()\n",
    "        i=i+1\n",
    "\n",
    "    return model"
   ]
  },
  {
   "cell_type": "code",
   "execution_count": 68,
   "metadata": {},
   "outputs": [],
   "source": [
    "def XGB_Model(X,Y):\n",
    "\n",
    "    X = X.reshape(X.shape[0], -1)\n",
    "\n",
    "    model = XGBRegressor(\n",
    "        n_estimators=100,\n",
    "        max_depth=3,\n",
    "        learning_rate=0.1,\n",
    "        verbosity=0,\n",
    "        random_state=42\n",
    "    )\n",
    "\n",
    "    X_train, X_test, y_train, y_test = train_test_split(X, Y, test_size=0.2, random_state=40,shuffle=False)\n",
    "\n",
    "    # Train the model\n",
    "    model.fit(X_train, y_train)\n",
    "\n",
    "    # Make predictions\n",
    "    predictions = model.predict(X_test)\n",
    "\n",
    "    # Calculate MSE\n",
    "    mse = mean_squared_error(y_test, predictions, squared=False)\n",
    "    print(\"Mean Squared Error:\", mse)\n",
    "\n",
    "    # Calculating the RMSE\n",
    "    rmse = sqrt(mse)\n",
    "    print(\"Root Mean Squared Error:\", rmse)\n",
    "\n",
    "    return model\n"
   ]
  },
  {
   "cell_type": "code",
   "execution_count": 69,
   "metadata": {},
   "outputs": [
    {
     "name": "stdout",
     "output_type": "stream",
     "text": [
      "Epoch 1/15\n"
     ]
    },
    {
     "name": "stdout",
     "output_type": "stream",
     "text": [
      "765/765 [==============================] - 17s 17ms/step - loss: 0.4904 - val_loss: 0.1058\n",
      "Epoch 2/15\n",
      "765/765 [==============================] - 12s 15ms/step - loss: 0.2631 - val_loss: 0.0780\n",
      "Epoch 3/15\n",
      "765/765 [==============================] - 11s 15ms/step - loss: 0.2198 - val_loss: 0.0734\n",
      "Epoch 4/15\n",
      "765/765 [==============================] - 11s 15ms/step - loss: 0.2019 - val_loss: 0.0631\n",
      "Epoch 5/15\n",
      "765/765 [==============================] - 11s 15ms/step - loss: 0.1951 - val_loss: 0.0586\n",
      "Epoch 6/15\n",
      "765/765 [==============================] - 11s 15ms/step - loss: 0.1890 - val_loss: 0.0641\n",
      "Epoch 7/15\n",
      "765/765 [==============================] - 12s 16ms/step - loss: 0.1825 - val_loss: 0.0549\n",
      "Epoch 8/15\n",
      "765/765 [==============================] - 12s 15ms/step - loss: 0.1794 - val_loss: 0.0546\n",
      "Epoch 9/15\n",
      "765/765 [==============================] - 13s 17ms/step - loss: 0.1756 - val_loss: 0.0577\n",
      "Epoch 10/15\n",
      "765/765 [==============================] - 11s 15ms/step - loss: 0.1722 - val_loss: 0.0551\n",
      "Epoch 11/15\n",
      "765/765 [==============================] - 11s 15ms/step - loss: 0.1695 - val_loss: 0.0557\n",
      "Epoch 12/15\n",
      "765/765 [==============================] - 11s 15ms/step - loss: 0.1661 - val_loss: 0.0534\n",
      "Epoch 13/15\n",
      "765/765 [==============================] - 12s 15ms/step - loss: 0.1619 - val_loss: 0.0531\n",
      "Epoch 14/15\n",
      "765/765 [==============================] - 11s 15ms/step - loss: 0.1616 - val_loss: 0.0543\n",
      "Epoch 15/15\n",
      "765/765 [==============================] - 11s 15ms/step - loss: 0.1562 - val_loss: 0.0542\n",
      "Model: \"sequential_4\"\n",
      "_________________________________________________________________\n",
      " Layer (type)                Output Shape              Param #   \n",
      "=================================================================\n",
      " bidirectional_4 (Bidirectio  (None, 128)              40448     \n",
      " nal)                                                            \n",
      "                                                                 \n",
      " leaky_re_lu_4 (LeakyReLU)   (None, 128)               0         \n",
      "                                                                 \n",
      " dropout_4 (Dropout)         (None, 128)               0         \n",
      "                                                                 \n",
      " dense_4 (Dense)             (None, 1)                 129       \n",
      "                                                                 \n",
      "=================================================================\n",
      "Total params: 40,577\n",
      "Trainable params: 40,577\n",
      "Non-trainable params: 0\n",
      "_________________________________________________________________\n",
      "Final training loss: 0.15615494549274445\n",
      "Final validation loss: 0.05421629548072815\n"
     ]
    },
    {
     "data": {
      "application/vnd.plotly.v1+json": {
       "config": {
        "plotlyServerURL": "https://plot.ly"
       },
       "data": [
        {
         "mode": "lines",
         "name": "Training loss",
         "type": "scatter",
         "x": [
          1,
          2,
          3,
          4,
          5,
          6,
          7,
          8,
          9,
          10,
          11,
          12,
          13,
          14,
          15
         ],
         "y": [
          0.4904412627220154,
          0.26314809918403625,
          0.2197561413049698,
          0.20187149941921234,
          0.19513244926929474,
          0.18900956213474274,
          0.1824767142534256,
          0.17935068905353546,
          0.17555050551891327,
          0.17223359644412994,
          0.1695096641778946,
          0.166142076253891,
          0.16190119087696075,
          0.16160783171653748,
          0.15615494549274445
         ]
        },
        {
         "mode": "lines",
         "name": "Validation loss",
         "type": "scatter",
         "x": [
          1,
          2,
          3,
          4,
          5,
          6,
          7,
          8,
          9,
          10,
          11,
          12,
          13,
          14,
          15
         ],
         "y": [
          0.1058027446269989,
          0.07796823233366013,
          0.07335002720355988,
          0.06314417719841003,
          0.05855172127485275,
          0.06407613307237625,
          0.05488482490181923,
          0.05456574261188507,
          0.05769718810915947,
          0.055067699402570724,
          0.05574150010943413,
          0.05339784547686577,
          0.0530683696269989,
          0.05432664230465889,
          0.05421629548072815
         ]
        }
       ],
       "layout": {
        "legend": {
         "traceorder": "normal",
         "x": 0,
         "y": 1
        },
        "template": {
         "data": {
          "bar": [
           {
            "error_x": {
             "color": "#2a3f5f"
            },
            "error_y": {
             "color": "#2a3f5f"
            },
            "marker": {
             "line": {
              "color": "#E5ECF6",
              "width": 0.5
             },
             "pattern": {
              "fillmode": "overlay",
              "size": 10,
              "solidity": 0.2
             }
            },
            "type": "bar"
           }
          ],
          "barpolar": [
           {
            "marker": {
             "line": {
              "color": "#E5ECF6",
              "width": 0.5
             },
             "pattern": {
              "fillmode": "overlay",
              "size": 10,
              "solidity": 0.2
             }
            },
            "type": "barpolar"
           }
          ],
          "carpet": [
           {
            "aaxis": {
             "endlinecolor": "#2a3f5f",
             "gridcolor": "white",
             "linecolor": "white",
             "minorgridcolor": "white",
             "startlinecolor": "#2a3f5f"
            },
            "baxis": {
             "endlinecolor": "#2a3f5f",
             "gridcolor": "white",
             "linecolor": "white",
             "minorgridcolor": "white",
             "startlinecolor": "#2a3f5f"
            },
            "type": "carpet"
           }
          ],
          "choropleth": [
           {
            "colorbar": {
             "outlinewidth": 0,
             "ticks": ""
            },
            "type": "choropleth"
           }
          ],
          "contour": [
           {
            "colorbar": {
             "outlinewidth": 0,
             "ticks": ""
            },
            "colorscale": [
             [
              0,
              "#0d0887"
             ],
             [
              0.1111111111111111,
              "#46039f"
             ],
             [
              0.2222222222222222,
              "#7201a8"
             ],
             [
              0.3333333333333333,
              "#9c179e"
             ],
             [
              0.4444444444444444,
              "#bd3786"
             ],
             [
              0.5555555555555556,
              "#d8576b"
             ],
             [
              0.6666666666666666,
              "#ed7953"
             ],
             [
              0.7777777777777778,
              "#fb9f3a"
             ],
             [
              0.8888888888888888,
              "#fdca26"
             ],
             [
              1,
              "#f0f921"
             ]
            ],
            "type": "contour"
           }
          ],
          "contourcarpet": [
           {
            "colorbar": {
             "outlinewidth": 0,
             "ticks": ""
            },
            "type": "contourcarpet"
           }
          ],
          "heatmap": [
           {
            "colorbar": {
             "outlinewidth": 0,
             "ticks": ""
            },
            "colorscale": [
             [
              0,
              "#0d0887"
             ],
             [
              0.1111111111111111,
              "#46039f"
             ],
             [
              0.2222222222222222,
              "#7201a8"
             ],
             [
              0.3333333333333333,
              "#9c179e"
             ],
             [
              0.4444444444444444,
              "#bd3786"
             ],
             [
              0.5555555555555556,
              "#d8576b"
             ],
             [
              0.6666666666666666,
              "#ed7953"
             ],
             [
              0.7777777777777778,
              "#fb9f3a"
             ],
             [
              0.8888888888888888,
              "#fdca26"
             ],
             [
              1,
              "#f0f921"
             ]
            ],
            "type": "heatmap"
           }
          ],
          "heatmapgl": [
           {
            "colorbar": {
             "outlinewidth": 0,
             "ticks": ""
            },
            "colorscale": [
             [
              0,
              "#0d0887"
             ],
             [
              0.1111111111111111,
              "#46039f"
             ],
             [
              0.2222222222222222,
              "#7201a8"
             ],
             [
              0.3333333333333333,
              "#9c179e"
             ],
             [
              0.4444444444444444,
              "#bd3786"
             ],
             [
              0.5555555555555556,
              "#d8576b"
             ],
             [
              0.6666666666666666,
              "#ed7953"
             ],
             [
              0.7777777777777778,
              "#fb9f3a"
             ],
             [
              0.8888888888888888,
              "#fdca26"
             ],
             [
              1,
              "#f0f921"
             ]
            ],
            "type": "heatmapgl"
           }
          ],
          "histogram": [
           {
            "marker": {
             "pattern": {
              "fillmode": "overlay",
              "size": 10,
              "solidity": 0.2
             }
            },
            "type": "histogram"
           }
          ],
          "histogram2d": [
           {
            "colorbar": {
             "outlinewidth": 0,
             "ticks": ""
            },
            "colorscale": [
             [
              0,
              "#0d0887"
             ],
             [
              0.1111111111111111,
              "#46039f"
             ],
             [
              0.2222222222222222,
              "#7201a8"
             ],
             [
              0.3333333333333333,
              "#9c179e"
             ],
             [
              0.4444444444444444,
              "#bd3786"
             ],
             [
              0.5555555555555556,
              "#d8576b"
             ],
             [
              0.6666666666666666,
              "#ed7953"
             ],
             [
              0.7777777777777778,
              "#fb9f3a"
             ],
             [
              0.8888888888888888,
              "#fdca26"
             ],
             [
              1,
              "#f0f921"
             ]
            ],
            "type": "histogram2d"
           }
          ],
          "histogram2dcontour": [
           {
            "colorbar": {
             "outlinewidth": 0,
             "ticks": ""
            },
            "colorscale": [
             [
              0,
              "#0d0887"
             ],
             [
              0.1111111111111111,
              "#46039f"
             ],
             [
              0.2222222222222222,
              "#7201a8"
             ],
             [
              0.3333333333333333,
              "#9c179e"
             ],
             [
              0.4444444444444444,
              "#bd3786"
             ],
             [
              0.5555555555555556,
              "#d8576b"
             ],
             [
              0.6666666666666666,
              "#ed7953"
             ],
             [
              0.7777777777777778,
              "#fb9f3a"
             ],
             [
              0.8888888888888888,
              "#fdca26"
             ],
             [
              1,
              "#f0f921"
             ]
            ],
            "type": "histogram2dcontour"
           }
          ],
          "mesh3d": [
           {
            "colorbar": {
             "outlinewidth": 0,
             "ticks": ""
            },
            "type": "mesh3d"
           }
          ],
          "parcoords": [
           {
            "line": {
             "colorbar": {
              "outlinewidth": 0,
              "ticks": ""
             }
            },
            "type": "parcoords"
           }
          ],
          "pie": [
           {
            "automargin": true,
            "type": "pie"
           }
          ],
          "scatter": [
           {
            "fillpattern": {
             "fillmode": "overlay",
             "size": 10,
             "solidity": 0.2
            },
            "type": "scatter"
           }
          ],
          "scatter3d": [
           {
            "line": {
             "colorbar": {
              "outlinewidth": 0,
              "ticks": ""
             }
            },
            "marker": {
             "colorbar": {
              "outlinewidth": 0,
              "ticks": ""
             }
            },
            "type": "scatter3d"
           }
          ],
          "scattercarpet": [
           {
            "marker": {
             "colorbar": {
              "outlinewidth": 0,
              "ticks": ""
             }
            },
            "type": "scattercarpet"
           }
          ],
          "scattergeo": [
           {
            "marker": {
             "colorbar": {
              "outlinewidth": 0,
              "ticks": ""
             }
            },
            "type": "scattergeo"
           }
          ],
          "scattergl": [
           {
            "marker": {
             "colorbar": {
              "outlinewidth": 0,
              "ticks": ""
             }
            },
            "type": "scattergl"
           }
          ],
          "scattermapbox": [
           {
            "marker": {
             "colorbar": {
              "outlinewidth": 0,
              "ticks": ""
             }
            },
            "type": "scattermapbox"
           }
          ],
          "scatterpolar": [
           {
            "marker": {
             "colorbar": {
              "outlinewidth": 0,
              "ticks": ""
             }
            },
            "type": "scatterpolar"
           }
          ],
          "scatterpolargl": [
           {
            "marker": {
             "colorbar": {
              "outlinewidth": 0,
              "ticks": ""
             }
            },
            "type": "scatterpolargl"
           }
          ],
          "scatterternary": [
           {
            "marker": {
             "colorbar": {
              "outlinewidth": 0,
              "ticks": ""
             }
            },
            "type": "scatterternary"
           }
          ],
          "surface": [
           {
            "colorbar": {
             "outlinewidth": 0,
             "ticks": ""
            },
            "colorscale": [
             [
              0,
              "#0d0887"
             ],
             [
              0.1111111111111111,
              "#46039f"
             ],
             [
              0.2222222222222222,
              "#7201a8"
             ],
             [
              0.3333333333333333,
              "#9c179e"
             ],
             [
              0.4444444444444444,
              "#bd3786"
             ],
             [
              0.5555555555555556,
              "#d8576b"
             ],
             [
              0.6666666666666666,
              "#ed7953"
             ],
             [
              0.7777777777777778,
              "#fb9f3a"
             ],
             [
              0.8888888888888888,
              "#fdca26"
             ],
             [
              1,
              "#f0f921"
             ]
            ],
            "type": "surface"
           }
          ],
          "table": [
           {
            "cells": {
             "fill": {
              "color": "#EBF0F8"
             },
             "line": {
              "color": "white"
             }
            },
            "header": {
             "fill": {
              "color": "#C8D4E3"
             },
             "line": {
              "color": "white"
             }
            },
            "type": "table"
           }
          ]
         },
         "layout": {
          "annotationdefaults": {
           "arrowcolor": "#2a3f5f",
           "arrowhead": 0,
           "arrowwidth": 1
          },
          "autotypenumbers": "strict",
          "coloraxis": {
           "colorbar": {
            "outlinewidth": 0,
            "ticks": ""
           }
          },
          "colorscale": {
           "diverging": [
            [
             0,
             "#8e0152"
            ],
            [
             0.1,
             "#c51b7d"
            ],
            [
             0.2,
             "#de77ae"
            ],
            [
             0.3,
             "#f1b6da"
            ],
            [
             0.4,
             "#fde0ef"
            ],
            [
             0.5,
             "#f7f7f7"
            ],
            [
             0.6,
             "#e6f5d0"
            ],
            [
             0.7,
             "#b8e186"
            ],
            [
             0.8,
             "#7fbc41"
            ],
            [
             0.9,
             "#4d9221"
            ],
            [
             1,
             "#276419"
            ]
           ],
           "sequential": [
            [
             0,
             "#0d0887"
            ],
            [
             0.1111111111111111,
             "#46039f"
            ],
            [
             0.2222222222222222,
             "#7201a8"
            ],
            [
             0.3333333333333333,
             "#9c179e"
            ],
            [
             0.4444444444444444,
             "#bd3786"
            ],
            [
             0.5555555555555556,
             "#d8576b"
            ],
            [
             0.6666666666666666,
             "#ed7953"
            ],
            [
             0.7777777777777778,
             "#fb9f3a"
            ],
            [
             0.8888888888888888,
             "#fdca26"
            ],
            [
             1,
             "#f0f921"
            ]
           ],
           "sequentialminus": [
            [
             0,
             "#0d0887"
            ],
            [
             0.1111111111111111,
             "#46039f"
            ],
            [
             0.2222222222222222,
             "#7201a8"
            ],
            [
             0.3333333333333333,
             "#9c179e"
            ],
            [
             0.4444444444444444,
             "#bd3786"
            ],
            [
             0.5555555555555556,
             "#d8576b"
            ],
            [
             0.6666666666666666,
             "#ed7953"
            ],
            [
             0.7777777777777778,
             "#fb9f3a"
            ],
            [
             0.8888888888888888,
             "#fdca26"
            ],
            [
             1,
             "#f0f921"
            ]
           ]
          },
          "colorway": [
           "#636efa",
           "#EF553B",
           "#00cc96",
           "#ab63fa",
           "#FFA15A",
           "#19d3f3",
           "#FF6692",
           "#B6E880",
           "#FF97FF",
           "#FECB52"
          ],
          "font": {
           "color": "#2a3f5f"
          },
          "geo": {
           "bgcolor": "white",
           "lakecolor": "white",
           "landcolor": "#E5ECF6",
           "showlakes": true,
           "showland": true,
           "subunitcolor": "white"
          },
          "hoverlabel": {
           "align": "left"
          },
          "hovermode": "closest",
          "mapbox": {
           "style": "light"
          },
          "paper_bgcolor": "white",
          "plot_bgcolor": "#E5ECF6",
          "polar": {
           "angularaxis": {
            "gridcolor": "white",
            "linecolor": "white",
            "ticks": ""
           },
           "bgcolor": "#E5ECF6",
           "radialaxis": {
            "gridcolor": "white",
            "linecolor": "white",
            "ticks": ""
           }
          },
          "scene": {
           "xaxis": {
            "backgroundcolor": "#E5ECF6",
            "gridcolor": "white",
            "gridwidth": 2,
            "linecolor": "white",
            "showbackground": true,
            "ticks": "",
            "zerolinecolor": "white"
           },
           "yaxis": {
            "backgroundcolor": "#E5ECF6",
            "gridcolor": "white",
            "gridwidth": 2,
            "linecolor": "white",
            "showbackground": true,
            "ticks": "",
            "zerolinecolor": "white"
           },
           "zaxis": {
            "backgroundcolor": "#E5ECF6",
            "gridcolor": "white",
            "gridwidth": 2,
            "linecolor": "white",
            "showbackground": true,
            "ticks": "",
            "zerolinecolor": "white"
           }
          },
          "shapedefaults": {
           "line": {
            "color": "#2a3f5f"
           }
          },
          "ternary": {
           "aaxis": {
            "gridcolor": "white",
            "linecolor": "white",
            "ticks": ""
           },
           "baxis": {
            "gridcolor": "white",
            "linecolor": "white",
            "ticks": ""
           },
           "bgcolor": "#E5ECF6",
           "caxis": {
            "gridcolor": "white",
            "linecolor": "white",
            "ticks": ""
           }
          },
          "title": {
           "x": 0.05
          },
          "xaxis": {
           "automargin": true,
           "gridcolor": "white",
           "linecolor": "white",
           "ticks": "",
           "title": {
            "standoff": 15
           },
           "zerolinecolor": "white",
           "zerolinewidth": 2
          },
          "yaxis": {
           "automargin": true,
           "gridcolor": "white",
           "linecolor": "white",
           "ticks": "",
           "title": {
            "standoff": 15
           },
           "zerolinecolor": "white",
           "zerolinewidth": 2
          }
         }
        },
        "title": {
         "text": "Training and Validation Loss"
        },
        "xaxis": {
         "title": {
          "text": "Epoch"
         }
        },
        "yaxis": {
         "title": {
          "text": "Loss"
         }
        }
       }
      }
     },
     "metadata": {},
     "output_type": "display_data"
    },
    {
     "name": "stdout",
     "output_type": "stream",
     "text": [
      "Mean Squared Error: 0.22883917169907694\n",
      "Root Mean Squared Error: 0.47837137424711873\n"
     ]
    }
   ],
   "source": [
    "lstm_model = LSTM_Model(X_train, y_train)\n",
    "xgb_model = XGB_Model(X_train, y_train)  # make XGB_Model accept X, y args"
   ]
  },
  {
   "cell_type": "code",
   "execution_count": 70,
   "metadata": {},
   "outputs": [
    {
     "name": "stdout",
     "output_type": "stream",
     "text": [
      "179/179 [==============================] - 2s 6ms/step\n",
      "161/161 [==============================] - 1s 6ms/step\n"
     ]
    }
   ],
   "source": [
    "# Predictions for validation set\n",
    "lstm_val_preds = lstm_model.predict(X_val)\n",
    "xgb_val_preds = xgb_model.predict(X_val.reshape(X_val.shape[0], -1))\n",
    "\n",
    "# Predictions for test set\n",
    "lstm_test_preds = lstm_model.predict(X_test)\n",
    "xgb_test_preds = xgb_model.predict(X_test.reshape(X_test.shape[0], -1))\n"
   ]
  },
  {
   "cell_type": "code",
   "execution_count": 71,
   "metadata": {},
   "outputs": [
    {
     "name": "stdout",
     "output_type": "stream",
     "text": [
      "📊 RMSE, MAE, and R² Comparison on Unscaled Test Set:\n",
      "Model              RMSE        MAE         R²\n",
      "LSTM            50.0456    25.4377     0.8889\n",
      "XGBoost         50.7625    25.5765     0.8857\n",
      "Ensemble        48.8598    24.7524     0.8941\n"
     ]
    }
   ],
   "source": [
    "from sklearn.linear_model import LinearRegression\n",
    "from sklearn.metrics import mean_squared_error, mean_absolute_error, r2_score\n",
    "from math import sqrt\n",
    "import numpy as np\n",
    "\n",
    "# Stack predictions for ensemble training and testing\n",
    "X_ens_val = np.column_stack((lstm_val_preds, xgb_val_preds))\n",
    "X_ens_test = np.column_stack((lstm_test_preds, xgb_test_preds))\n",
    "\n",
    "# Train ensemble model on validation set\n",
    "ensemble_model = LinearRegression()\n",
    "ensemble_model.fit(X_ens_val, y_val)\n",
    "\n",
    "# Predict on test set using ensemble\n",
    "ensemble_test_preds = ensemble_model.predict(X_ens_test)\n",
    "# ensemble_test_preds = (X_ens_test[:, 0]*0.6 + 0.2*X_ens_test[:, 1])\n",
    "\n",
    "# Repeat predictions and y_test to match scaler input shape (11 features)\n",
    "lstm_unscaled = scaler.inverse_transform(np.repeat(lstm_test_preds.reshape(-1, 1), 11, axis=1))[:, 0]\n",
    "xgb_unscaled = scaler.inverse_transform(np.repeat(xgb_test_preds.reshape(-1, 1), 11, axis=1))[:, 0]\n",
    "ensemble_unscaled = scaler.inverse_transform(np.repeat(ensemble_test_preds.reshape(-1, 1), 11, axis=1))[:, 0]\n",
    "y_test_unscaled = scaler.inverse_transform(np.repeat(y_test.reshape(-1, 1), 11, axis=1))[:, 0]\n",
    "\n",
    "# Evaluate all models on original scale\n",
    "lstm_rmse = sqrt(mean_squared_error(y_test_unscaled, lstm_unscaled))\n",
    "xgb_rmse = sqrt(mean_squared_error(y_test_unscaled, xgb_unscaled))\n",
    "ensemble_rmse = sqrt(mean_squared_error(y_test_unscaled, ensemble_unscaled))\n",
    "\n",
    "lstm_mae = mean_absolute_error(y_test_unscaled, lstm_unscaled)\n",
    "xgb_mae = mean_absolute_error(y_test_unscaled, xgb_unscaled)\n",
    "ensemble_mae = mean_absolute_error(y_test_unscaled, ensemble_unscaled)\n",
    "\n",
    "lstm_r2 = r2_score(y_test_unscaled, lstm_unscaled)\n",
    "xgb_r2 = r2_score(y_test_unscaled, xgb_unscaled)\n",
    "ensemble_r2 = r2_score(y_test_unscaled, ensemble_unscaled)\n",
    "\n",
    "# 📊 Print results\n",
    "print(\"📊 RMSE, MAE, and R² Comparison on Unscaled Test Set:\")\n",
    "print(f\"{'Model':<12} {'RMSE':>10} {'MAE':>10} {'R²':>10}\")\n",
    "print(f\"{'LSTM':<12} {lstm_rmse:10.4f} {lstm_mae:10.4f} {lstm_r2:10.4f}\")\n",
    "print(f\"{'XGBoost':<12} {xgb_rmse:10.4f} {xgb_mae:10.4f} {xgb_r2:10.4f}\")\n",
    "print(f\"{'Ensemble':<12} {ensemble_rmse:10.4f} {ensemble_mae:10.4f} {ensemble_r2:10.4f}\")\n"
   ]
  },
  {
   "cell_type": "code",
   "execution_count": null,
   "metadata": {},
   "outputs": [
    {
     "name": "stdout",
     "output_type": "stream",
     "text": [
      "\n",
      "📌 Ensemble Weights:\n",
      "   LSTM Weight   = 0.4449\n",
      "   XGBoost Weight= 0.5690\n"
     ]
    }
   ],
   "source": [
    "print(f\"\\n📌 Ensemble Weights:\")\n",
    "print(f\"   LSTM Weight   = {ensemble_model.coef_[0][0]:.4f}\")\n",
    "print(f\"   XGBoost Weight= {ensemble_model.coef_[0][1]:.4f}\")"
   ]
  },
  {
   "cell_type": "code",
   "execution_count": null,
   "metadata": {},
   "outputs": [],
   "source": []
  },
  {
   "cell_type": "code",
   "execution_count": null,
   "metadata": {},
   "outputs": [],
   "source": []
  }
 ],
 "metadata": {
  "kernelspec": {
   "display_name": "Python 3",
   "language": "python",
   "name": "python3"
  },
  "language_info": {
   "codemirror_mode": {
    "name": "ipython",
    "version": 3
   },
   "file_extension": ".py",
   "mimetype": "text/x-python",
   "name": "python",
   "nbconvert_exporter": "python",
   "pygments_lexer": "ipython3",
   "version": "3.10.10"
  }
 },
 "nbformat": 4,
 "nbformat_minor": 2
}
